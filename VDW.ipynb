{
 "cells": [
  {
   "cell_type": "code",
   "execution_count": null,
   "metadata": {
    "collapsed": false
   },
   "outputs": [],
   "source": [
    "import matplotlib\n",
    "import matplotlib.pyplot as plt\n",
    "import numpy as np\n",
    "\n",
    "# Data for plotting\n",
    "T = float(input(\">>>Temperature:\"))#temperature(K)\n",
    "a = float(input(\">>>van der Waals Coefficients a:\"))\n",
    "b = float(input(\">>>van der Waals Coefficients b:\"))\n",
    "\n",
    "R=8.314 #ideal gas constant(L*kpa*K-1*mol-1)\n",
    "n=1 #the number of particles(mol)\n",
    "#The equation I us:e\n",
    "#PV=nRT (ideal gas)\n",
    "#P=(nRT/(V-nb))-(a(n**(2))/(V**(2))) (Van der Waals gas)\n",
    "#P = np.linspace(0.001, 2.0, 2000) #pressure(atm)\n",
    "V = np.arange(0.04, 0.5, 0.001)#volume(m3)\n",
    "Pida = n*R*T/V\n",
    "Pvan=n*R*T/(V-n*b)-(a*(n**(2))/(V**(2)))\n",
    "\n",
    "\n",
    "# Note that using plt.subplots below is equivalent to using\n",
    "# fig = plt.figure() and then ax = fig.add_subplot(111)\n",
    "fig, ax = plt.subplots()\n",
    "ax.plot(V, Pida, '-*r', label='ideal gas')\n",
    "ax.plot(V, Pvan, '-*b', label='Van der Waals gas')\n",
    "\n",
    "ax.set(xlabel='V (some unit)', ylabel='P (some unit)',\n",
    "       title='P-V curve')\n",
    "ax.legend()\n",
    "ax.grid()\n",
    "\n",
    "fig.savefig(\"test.png\")\n",
    "plt.show()"
   ]
  }
 ],
 "metadata": {
  "kernelspec": {
   "display_name": "Python 3",
   "language": "python",
   "name": "python3"
  },
  "language_info": {
   "codemirror_mode": {
    "name": "ipython",
    "version": 3
   },
   "file_extension": ".py",
   "mimetype": "text/x-python",
   "name": "python",
   "nbconvert_exporter": "python",
   "pygments_lexer": "ipython3",
   "version": "3.5.1"
  }
 },
 "nbformat": 4,
 "nbformat_minor": 0
}
