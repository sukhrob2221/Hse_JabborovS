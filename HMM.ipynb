{
 "cells": [
  {
   "cell_type": "markdown",
   "metadata": {},
   "source": [
    "## HMM"
   ]
  },
  {
   "cell_type": "code",
   "execution_count": 1,
   "metadata": {
    "collapsed": true
   },
   "outputs": [],
   "source": [
    "import numpy as np\n",
    "import pandas as pd\n",
    "import math\n",
    "import matplotlib.pyplot as plt\n",
    "import matplotlib.patches as mpatches\n",
    "import matplotlib.lines as lines"
   ]
  },
  {
   "cell_type": "markdown",
   "metadata": {},
   "source": [
    "## Ввод параметров"
   ]
  },
  {
   "cell_type": "code",
   "execution_count": 2,
   "metadata": {
    "collapsed": false
   },
   "outputs": [
    {
     "name": "stdout",
     "output_type": "stream",
     "text": [
      "Enter the number of states, M: \n",
      "5\n",
      "Enter the number of possible emissions, K: \n",
      "7\n",
      "Enter the length of the sequence, L: \n",
      "400\n"
     ]
    }
   ],
   "source": [
    "print(\"Enter the number of states, M: \")\n",
    "M = int(input())\n",
    "print(\"Enter the number of possible emissions, K: \")\n",
    "K = int(input())\n",
    "print(\"Enter the length of the sequence, L: \")\n",
    "L = int(input())"
   ]
  },
  {
   "cell_type": "markdown",
   "metadata": {},
   "source": [
    "### Генерируем "
   ]
  },
  {
   "cell_type": "code",
   "execution_count": 3,
   "metadata": {
    "collapsed": true
   },
   "outputs": [],
   "source": [
    "# Сгенерировать данные\n",
    "transition_random = pd.DataFrame(np.random.randint(0,10,size=(M, M))).add_prefix('p').T.add_prefix('p').T\n",
    "emission_random = pd.DataFrame(np.random.randint(0,10,size=(M, K))).add_prefix('e').T.add_prefix('p').T\n",
    "beginning_distribution_random = pd.DataFrame(np.random.randint(1,10,size=(M, 1))).T.add_prefix('p').T\n",
    "\n",
    "# Нормализовать данные\n",
    "transition_norm = transition_random.div(transition_random.sum(axis=1),axis=0)\n",
    "emission_norm = emission_random.div(emission_random.sum(axis=1),axis=0)\n",
    "beginning_distribution_norm = beginning_distribution_random.div(beginning_distribution_random.sum(axis=0),axis=1)\n",
    "\n",
    "# Сохранить данные\n",
    "transition_norm.to_csv('transition.csv',sep='\\t')\n",
    "emission_norm.to_csv('emission.csv',sep='\\t')\n",
    "beginning_distribution_norm.to_csv('begin_distribution.csv',sep='\\t')"
   ]
  },
  {
   "cell_type": "code",
   "execution_count": 4,
   "metadata": {
    "collapsed": true
   },
   "outputs": [],
   "source": [
    "transition = pd.read_csv('transition.csv',sep='\\t',index_col=0)\n",
    "emission = pd.read_csv('emission.csv',sep='\\t',index_col=0)\n",
    "begin_distribution = pd.read_csv('begin_distribution.csv',sep='\\t',index_col=0)"
   ]
  },
  {
   "cell_type": "code",
   "execution_count": 8,
   "metadata": {
    "collapsed": false
   },
   "outputs": [
    {
     "data": {
      "text/html": [
       "<div>\n",
       "<table border=\"1\" class=\"dataframe\">\n",
       "  <thead>\n",
       "    <tr style=\"text-align: right;\">\n",
       "      <th></th>\n",
       "      <th>p0</th>\n",
       "      <th>p1</th>\n",
       "      <th>p2</th>\n",
       "      <th>p3</th>\n",
       "      <th>p4</th>\n",
       "    </tr>\n",
       "  </thead>\n",
       "  <tbody>\n",
       "    <tr>\n",
       "      <th>p0</th>\n",
       "      <td>0.045455</td>\n",
       "      <td>0.409091</td>\n",
       "      <td>0.045455</td>\n",
       "      <td>0.272727</td>\n",
       "      <td>0.227273</td>\n",
       "    </tr>\n",
       "    <tr>\n",
       "      <th>p1</th>\n",
       "      <td>0.277778</td>\n",
       "      <td>0.000000</td>\n",
       "      <td>0.222222</td>\n",
       "      <td>0.500000</td>\n",
       "      <td>0.000000</td>\n",
       "    </tr>\n",
       "    <tr>\n",
       "      <th>p2</th>\n",
       "      <td>0.444444</td>\n",
       "      <td>0.000000</td>\n",
       "      <td>0.000000</td>\n",
       "      <td>0.055556</td>\n",
       "      <td>0.500000</td>\n",
       "    </tr>\n",
       "    <tr>\n",
       "      <th>p3</th>\n",
       "      <td>0.150000</td>\n",
       "      <td>0.200000</td>\n",
       "      <td>0.300000</td>\n",
       "      <td>0.000000</td>\n",
       "      <td>0.350000</td>\n",
       "    </tr>\n",
       "    <tr>\n",
       "      <th>p4</th>\n",
       "      <td>0.391304</td>\n",
       "      <td>0.173913</td>\n",
       "      <td>0.043478</td>\n",
       "      <td>0.217391</td>\n",
       "      <td>0.173913</td>\n",
       "    </tr>\n",
       "  </tbody>\n",
       "</table>\n",
       "</div>"
      ],
      "text/plain": [
       "          p0        p1        p2        p3        p4\n",
       "p0  0.045455  0.409091  0.045455  0.272727  0.227273\n",
       "p1  0.277778  0.000000  0.222222  0.500000  0.000000\n",
       "p2  0.444444  0.000000  0.000000  0.055556  0.500000\n",
       "p3  0.150000  0.200000  0.300000  0.000000  0.350000\n",
       "p4  0.391304  0.173913  0.043478  0.217391  0.173913"
      ]
     },
     "execution_count": 8,
     "metadata": {},
     "output_type": "execute_result"
    }
   ],
   "source": [
    "transition"
   ]
  },
  {
   "cell_type": "markdown",
   "metadata": {},
   "source": []
  },
  {
   "cell_type": "code",
   "execution_count": 9,
   "metadata": {
    "collapsed": false
   },
   "outputs": [
    {
     "data": {
      "text/html": [
       "<div>\n",
       "<table border=\"1\" class=\"dataframe\">\n",
       "  <thead>\n",
       "    <tr style=\"text-align: right;\">\n",
       "      <th></th>\n",
       "      <th>e0</th>\n",
       "      <th>e1</th>\n",
       "      <th>e2</th>\n",
       "      <th>e3</th>\n",
       "      <th>e4</th>\n",
       "      <th>e5</th>\n",
       "      <th>e6</th>\n",
       "    </tr>\n",
       "  </thead>\n",
       "  <tbody>\n",
       "    <tr>\n",
       "      <th>p0</th>\n",
       "      <td>0.171429</td>\n",
       "      <td>0.257143</td>\n",
       "      <td>0.142857</td>\n",
       "      <td>0.171429</td>\n",
       "      <td>0.114286</td>\n",
       "      <td>0.114286</td>\n",
       "      <td>0.028571</td>\n",
       "    </tr>\n",
       "    <tr>\n",
       "      <th>p1</th>\n",
       "      <td>0.029412</td>\n",
       "      <td>0.117647</td>\n",
       "      <td>0.176471</td>\n",
       "      <td>0.176471</td>\n",
       "      <td>0.205882</td>\n",
       "      <td>0.117647</td>\n",
       "      <td>0.176471</td>\n",
       "    </tr>\n",
       "    <tr>\n",
       "      <th>p2</th>\n",
       "      <td>0.040000</td>\n",
       "      <td>0.000000</td>\n",
       "      <td>0.360000</td>\n",
       "      <td>0.080000</td>\n",
       "      <td>0.200000</td>\n",
       "      <td>0.040000</td>\n",
       "      <td>0.280000</td>\n",
       "    </tr>\n",
       "    <tr>\n",
       "      <th>p3</th>\n",
       "      <td>0.181818</td>\n",
       "      <td>0.030303</td>\n",
       "      <td>0.272727</td>\n",
       "      <td>0.181818</td>\n",
       "      <td>0.121212</td>\n",
       "      <td>0.090909</td>\n",
       "      <td>0.121212</td>\n",
       "    </tr>\n",
       "    <tr>\n",
       "      <th>p4</th>\n",
       "      <td>0.137931</td>\n",
       "      <td>0.275862</td>\n",
       "      <td>0.068966</td>\n",
       "      <td>0.137931</td>\n",
       "      <td>0.034483</td>\n",
       "      <td>0.034483</td>\n",
       "      <td>0.310345</td>\n",
       "    </tr>\n",
       "  </tbody>\n",
       "</table>\n",
       "</div>"
      ],
      "text/plain": [
       "          e0        e1        e2        e3        e4        e5        e6\n",
       "p0  0.171429  0.257143  0.142857  0.171429  0.114286  0.114286  0.028571\n",
       "p1  0.029412  0.117647  0.176471  0.176471  0.205882  0.117647  0.176471\n",
       "p2  0.040000  0.000000  0.360000  0.080000  0.200000  0.040000  0.280000\n",
       "p3  0.181818  0.030303  0.272727  0.181818  0.121212  0.090909  0.121212\n",
       "p4  0.137931  0.275862  0.068966  0.137931  0.034483  0.034483  0.310345"
      ]
     },
     "execution_count": 9,
     "metadata": {},
     "output_type": "execute_result"
    }
   ],
   "source": [
    "emission"
   ]
  },
  {
   "cell_type": "code",
   "execution_count": 10,
   "metadata": {
    "collapsed": false
   },
   "outputs": [
    {
     "data": {
      "text/html": [
       "<div>\n",
       "<table border=\"1\" class=\"dataframe\">\n",
       "  <thead>\n",
       "    <tr style=\"text-align: right;\">\n",
       "      <th></th>\n",
       "      <th>0</th>\n",
       "    </tr>\n",
       "  </thead>\n",
       "  <tbody>\n",
       "    <tr>\n",
       "      <th>p0</th>\n",
       "      <td>0.166667</td>\n",
       "    </tr>\n",
       "    <tr>\n",
       "      <th>p1</th>\n",
       "      <td>0.111111</td>\n",
       "    </tr>\n",
       "    <tr>\n",
       "      <th>p2</th>\n",
       "      <td>0.277778</td>\n",
       "    </tr>\n",
       "    <tr>\n",
       "      <th>p3</th>\n",
       "      <td>0.166667</td>\n",
       "    </tr>\n",
       "    <tr>\n",
       "      <th>p4</th>\n",
       "      <td>0.277778</td>\n",
       "    </tr>\n",
       "  </tbody>\n",
       "</table>\n",
       "</div>"
      ],
      "text/plain": [
       "           0\n",
       "p0  0.166667\n",
       "p1  0.111111\n",
       "p2  0.277778\n",
       "p3  0.166667\n",
       "p4  0.277778"
      ]
     },
     "execution_count": 10,
     "metadata": {},
     "output_type": "execute_result"
    }
   ],
   "source": [
    "begin_distribution"
   ]
  },
  {
   "cell_type": "markdown",
   "metadata": {},
   "source": [
    "## Рандомное "
   ]
  },
  {
   "cell_type": "code",
   "execution_count": 11,
   "metadata": {
    "collapsed": true
   },
   "outputs": [],
   "source": [
    "def random_choice(distribution):\n",
    "    rand = np.random.random() # равномероятно попадает в [0,1)\n",
    "    rand = rand*distribution.sum() # равномероятно попадает в [0,dist_sum)\n",
    "    position = 0 \n",
    "    for i in range(len(distribution)):\n",
    "        position += distribution[i]\n",
    "        # position = правая граница интервала i-го интервала, размер которого пропорционален i-ой вероятности\n",
    "        if rand < position: # rand попал в интервал для i-ой вероятности\n",
    "            return i\n",
    "        \n",
    "def HMMrg_path(begin_dist,transition,Length):\n",
    "    path = []\n",
    "    path.append('p'+str(random_choice(begin_dist['0'])))\n",
    "    for i in range(1,Length):\n",
    "        path.append('p'+str(random_choice(transition.T[path[i-1]])))\n",
    "    return path\n",
    "\n",
    "def HMMrg_sequence(path,emission,Length):\n",
    "    sequence = []\n",
    "    for i in range(Length): \n",
    "        sequence.append('e'+str(random_choice(emission.T[path[i]])))\n",
    "    return sequence"
   ]
  },
  {
   "cell_type": "code",
   "execution_count": 12,
   "metadata": {
    "collapsed": true
   },
   "outputs": [],
   "source": [
    "# Сгенерировать последовательности\n",
    "path_random = HMMrg_path(begin_distribution,transition,L)\n",
    "sequence_random = HMMrg_sequence(path_random,emission,L)\n",
    "\n",
    "# Сохранить данные\n",
    "path_random_df = pd.DataFrame({'path': path_random})\n",
    "path_random_df.to_csv('Path.csv',sep='\\t')\n",
    "sequence_random_df = pd.DataFrame({'sequence': sequence_random})\n",
    "sequence_random_df.to_csv('Emissions.csv',sep='\\t')\n",
    "\n",
    "# Загрузить данные\n",
    "path = pd.read_csv('Path.csv',sep='\\t',index_col=0)\n",
    "sequence = pd.read_csv('Emissions.csv',sep='\\t',index_col=0)"
   ]
  },
  {
   "cell_type": "code",
   "execution_count": 13,
   "metadata": {
    "collapsed": true
   },
   "outputs": [],
   "source": [
    "#Функции, упрощающие визуальное восприятие кода при выводе массивов на экран\n",
    "\n",
    "def print_path(p):\n",
    "    print(\"    Path (states, Pi): \")\n",
    "    for element in p['path']:\n",
    "        print(element + '  ', end='')\n",
    "        \n",
    "def print_emissions(e):\n",
    "    print(\"\\n\\n    Emissions (sequence of observation, x): \")\n",
    "    for element in e['sequence']:\n",
    "        print(element + '  ', end='')\n",
    "        \n",
    "def print_recovered_path(rp):\n",
    "    print(\"\\n\\n    Recovered path (states, Pi): \")\n",
    "    for i in range(len(rp)):\n",
    "        print(rp[i] + '  ', end='')\n",
    "\n",
    "def print_recovered_path_log(rpl):\n",
    "    print(\"\\n\\n    Recovered path using logarithm (states, Pi): \")\n",
    "    for i in range(len(rpl)):\n",
    "        print(rpl[i] + '  ', end='')"
   ]
  },
  {
   "cell_type": "code",
   "execution_count": 14,
   "metadata": {
    "collapsed": false
   },
   "outputs": [
    {
     "name": "stdout",
     "output_type": "stream",
     "text": [
      "    Path (states, Pi): \n",
      "p2  p4  p4  p0  p1  p2  p4  p0  p3  p2  p0  p3  p2  p4  p4  p0  p3  p2  p4  p3  p4  p0  p1  p2  p4  p4  p3  p4  p0  p3  p4  p4  p1  p0  p3  p1  p2  p4  p3  p4  p0  p1  p3  p2  p0  p4  p3  p1  p0  p3  p2  p4  p4  p0  p1  p3  p2  p4  p1  p3  p1  p0  p1  p3  p1  p3  p0  p1  p3  p2  p0  p1  p2  p0  p3  p2  p0  p4  p0  p1  p3  p1  p2  p0  p4  p1  p3  p2  p4  p3  p1  p2  p0  p3  p1  p3  p1  p3  p4  p3  p4  p0  p3  p4  p1  p3  p2  p0  p1  p3  p2  p0  p4  p1  p3  p2  p4  p3  p4  p3  p0  p4  p0  p3  p4  p0  p4  p3  p1  p3  p1  p3  p4  p0  p4  p4  p4  p3  p2  p0  p3  p0  p4  p0  p1  p3  p4  p1  p3  p4  p0  p3  p1  p3  p0  p4  p1  p2  p4  p3  p4  p0  p1  p0  p1  p3  p1  p0  p4  p3  p2  p0  p4  p4  p0  p3  p4  p0  p3  p2  p4  p0  p1  p2  p0  p4  p1  p3  p2  p0  p1  p2  p0  p3  p2  p4  p1  p3  p2  p0  p3  p2  p4  p0  p3  p2  p0  p4  p0  p3  p4  p4  p0  p3  p4  p3  p0  p4  p0  p3  p4  p2  p0  p3  p2  p0  p1  p2  p4  p4  p4  p0  p1  p0  p1  p3  p0  p1  p3  p2  p0  p1  p0  p4  p0  p4  p3  p2  p4  p0  p4  p4  p0  p3  p4  p4  p3  p4  p3  p2  p4  p1  p2  p0  p1  p2  p4  p3  p1  p3  p0  p1  p2  p0  p1  p2  p0  p4  p0  p4  p1  p3  p4  p3  p2  p3  p4  p0  p3  p2  p4  p1  p0  p4  p3  p1  p0  p4  p1  p3  p0  p3  p2  p0  p4  p0  p1  p3  p2  p0  p4  p4  p0  p2  p4  p4  p0  p4  p3  p1  p3  p4  p4  p0  p3  p4  p0  p4  p3  p4  p1  p0  p1  p2  p4  p0  p1  p3  p4  p4  p4  p0  p1  p0  p1  p0  p3  p4  p1  p0  p4  p3  p0  p3  p2  p4  p3  p4  p4  p4  p0  p1  p2  p4  p0  p4  p4  p3  p1  p2  p0  p3  p0  p3  p4  p4  p0  p1  p3  p0  p3  p4  p0  p2  p0  p0  p3  p2  p0  p1  p3  p4  p1  p3  p2  p4  p1  p0  p1  p3  \n",
      "\n",
      "    Emissions (sequence of observation, x): \n",
      "e6  e1  e1  e4  e3  e4  e1  e4  e6  e6  e2  e3  e2  e5  e6  e3  e5  e6  e2  e2  e6  e1  e4  e2  e2  e3  e2  e1  e3  e3  e6  e3  e3  e1  e2  e1  e2  e6  e2  e3  e3  e1  e0  e6  e5  e4  e3  e3  e1  e5  e6  e2  e6  e2  e1  e1  e4  e6  e6  e2  e6  e0  e2  e2  e3  e2  e1  e6  e5  e4  e0  e3  e4  e1  e6  e2  e0  e6  e2  e6  e0  e5  e4  e2  e6  e1  e3  e3  e3  e3  e3  e6  e1  e2  e3  e3  e2  e0  e6  e3  e1  e5  e3  e0  e2  e2  e2  e2  e2  e2  e5  e1  e6  e2  e6  e2  e1  e2  e6  e2  e0  e6  e2  e3  e1  e3  e6  e2  e5  e5  e6  e6  e3  e2  e1  e1  e2  e4  e0  e0  e4  e1  e0  e5  e3  e6  e1  e6  e1  e2  e3  e0  e4  e2  e5  e3  e2  e4  e3  e2  e6  e0  e6  e0  e1  e2  e5  e4  e1  e2  e6  e5  e1  e6  e6  e3  e6  e1  e0  e2  e3  e1  e3  e6  e5  e1  e2  e1  e4  e5  e4  e2  e0  e2  e3  e6  e3  e3  e6  e5  e0  e2  e1  e2  e3  e2  e3  e0  e4  e3  e2  e3  e1  e6  e3  e4  e4  e1  e1  e0  e6  e3  e0  e5  e2  e3  e6  e6  e3  e1  e1  e3  e3  e5  e4  e6  e1  e6  e4  e2  e3  e2  e1  e6  e3  e3  e3  e2  e2  e3  e6  e6  e1  e5  e1  e4  e2  e6  e5  e2  e3  e5  e2  e5  e3  e4  e6  e3  e1  e3  e4  e1  e2  e4  e6  e6  e1  e4  e0  e2  e4  e6  e6  e4  e2  e5  e5  e4  e3  e0  e6  e5  e2  e1  e3  e2  e4  e6  e2  e4  e2  e4  e3  e3  e0  e1  e2  e2  e4  e4  e6  e3  e1  e2  e6  e0  e1  e5  e2  e3  e2  e0  e1  e3  e5  e5  e2  e1  e3  e1  e6  e4  e4  e5  e3  e0  e3  e3  e1  e1  e1  e2  e1  e3  e3  e1  e5  e6  e3  e2  e6  e3  e1  e3  e4  e6  e6  e4  e1  e6  e1  e3  e5  e0  e1  e6  e1  e0  e6  e6  e2  e0  e3  e2  e1  e6  e5  e4  e2  e0  e0  e0  e0  e2  e2  e5  e2  e2  e4  e3  e5  e0  e2  e3  e3  e6  e2  e4  e2  e6  "
     ]
    }
   ],
   "source": [
    "print_path(path)\n",
    "print_emissions(sequence)"
   ]
  },
  {
   "cell_type": "markdown",
   "metadata": {},
   "source": [
    "## Viterbi"
   ]
  },
  {
   "cell_type": "code",
   "execution_count": 15,
   "metadata": {
    "collapsed": true
   },
   "outputs": [],
   "source": [
    "def viterbi_algorithm(A,B,pi,seq):\n",
    "    L = len(seq)\n",
    "    M = len(A)\n",
    "    \n",
    "    #Initialization\n",
    "    Matr_value = pd.DataFrame(np.zeros((M,L+1)),index=A.index)\n",
    "    Matr_value[0]=pi['0']\n",
    "    Matr_index = pd.DataFrame(np.zeros((M,L+1)),index=A.index)\n",
    "    \n",
    "    #Recursion\n",
    "    for k in Matr_value.columns[1:]:\n",
    "        for i in Matr_value.index:\n",
    "            values = []\n",
    "            for j in Matr_value.index:\n",
    "                values.append(Matr_value[k-1][j] * A[i][j])\n",
    "            max_value = values[0]\n",
    "            max_index = 0\n",
    "            for ind, val in enumerate(values):\n",
    "                if val>max_value:\n",
    "                    max_value = val\n",
    "                    max_index = ind\n",
    "            Matr_value[k][i] = B[seq['sequence'][k-1]][i] * max_value\n",
    "            Matr_index[k][i] = max_index\n",
    "    \n",
    "    #Traceback      \n",
    "    path = []\n",
    "    idx = Matr_value[L].idxmax(axis=0)\n",
    "    path = [idx]+path\n",
    "    k = 'p'+str(Matr_index[L][idx]).split('.')[0]\n",
    "    path = [k] + path \n",
    "    for i in range(L-1,1,-1):\n",
    "        k = 'p'+ str(Matr_index[i][k]).split('.')[0]\n",
    "        path = [k] + path\n",
    "    return path"
   ]
  },
  {
   "cell_type": "code",
   "execution_count": 16,
   "metadata": {
    "collapsed": true
   },
   "outputs": [],
   "source": [
    "def log_matr(Matr):\n",
    "    rows=len(Matr.index)\n",
    "    columns=len(Matr.columns)\n",
    "    log_Matr = pd.DataFrame([[-1000000000.0 for i in range(columns)] for j in range(rows)],index=Matr.index, columns=Matr.columns)\n",
    "    for i in Matr.columns:\n",
    "        for j in Matr.index:\n",
    "            if Matr[i][j] != 0:\n",
    "                log_Matr[i][j] = math.log(Matr[i][j])\n",
    "    return log_Matr\n",
    "\n",
    "def viterbi_algorithm_log(A,B,pi,seq):\n",
    "    L = len(seq)\n",
    "    M = len(A)\n",
    "    A_log = log_matr(A)\n",
    "    B_log = log_matr(B)\n",
    "    pi_log = log_matr(pi)\n",
    "    \n",
    "    #Initialization\n",
    "    Matr_value = pd.DataFrame(np.zeros((M,L+1)),index=A.index)\n",
    "    Matr_value[0]=pi_log['0']\n",
    "    Matr_index = pd.DataFrame(np.zeros((M,L+1)),index=A.index)\n",
    "    \n",
    "    #Recursion\n",
    "    for k in Matr_value.columns[1:]:\n",
    "        for i in Matr_value.index:\n",
    "            values = []\n",
    "            for j in Matr_value.index:\n",
    "                values.append(Matr_value[k-1][j] + A_log[i][j])\n",
    "            max_value = values[0]\n",
    "            max_index = 0\n",
    "            for ind, val in enumerate(values):\n",
    "                if val>max_value:\n",
    "                    max_value = val\n",
    "                    max_index = ind\n",
    "            Matr_value[k][i] = B_log[seq['sequence'][k-1]][i] + max_value\n",
    "            Matr_index[k][i] = max_index\n",
    "    \n",
    "    #Traceback\n",
    "    path = []\n",
    "    idx = Matr_value[L].idxmax(axis=0)\n",
    "    path = [idx]+path\n",
    "    k = 'p'+str(Matr_index[L][idx]).split('.')[0]\n",
    "    path = [k] + path \n",
    "    for i in range(L-1,1,-1):\n",
    "        k = 'p'+ str(Matr_index[i][k]).split('.')[0]\n",
    "        path = [k] + path\n",
    "    return path"
   ]
  },
  {
   "cell_type": "code",
   "execution_count": 17,
   "metadata": {
    "collapsed": true
   },
   "outputs": [],
   "source": [
    "#Воссоздание последовательности\n",
    "recovered_path = viterbi_algorithm(transition,emission,begin_distribution,sequence)\n",
    "#Воссоздание последовательности в логарифмическом пространстве\n",
    "recovered_path_log = viterbi_algorithm_log(transition,emission,begin_distribution,sequence)"
   ]
  },
  {
   "cell_type": "code",
   "execution_count": 18,
   "metadata": {
    "collapsed": false
   },
   "outputs": [
    {
     "name": "stdout",
     "output_type": "stream",
     "text": [
      "    Path (states, Pi): \n",
      "p2  p4  p4  p0  p1  p2  p4  p0  p3  p2  p0  p3  p2  p4  p4  p0  p3  p2  p4  p3  p4  p0  p1  p2  p4  p4  p3  p4  p0  p3  p4  p4  p1  p0  p3  p1  p2  p4  p3  p4  p0  p1  p3  p2  p0  p4  p3  p1  p0  p3  p2  p4  p4  p0  p1  p3  p2  p4  p1  p3  p1  p0  p1  p3  p1  p3  p0  p1  p3  p2  p0  p1  p2  p0  p3  p2  p0  p4  p0  p1  p3  p1  p2  p0  p4  p1  p3  p2  p4  p3  p1  p2  p0  p3  p1  p3  p1  p3  p4  p3  p4  p0  p3  p4  p1  p3  p2  p0  p1  p3  p2  p0  p4  p1  p3  p2  p4  p3  p4  p3  p0  p4  p0  p3  p4  p0  p4  p3  p1  p3  p1  p3  p4  p0  p4  p4  p4  p3  p2  p0  p3  p0  p4  p0  p1  p3  p4  p1  p3  p4  p0  p3  p1  p3  p0  p4  p1  p2  p4  p3  p4  p0  p1  p0  p1  p3  p1  p0  p4  p3  p2  p0  p4  p4  p0  p3  p4  p0  p3  p2  p4  p0  p1  p2  p0  p4  p1  p3  p2  p0  p1  p2  p0  p3  p2  p4  p1  p3  p2  p0  p3  p2  p4  p0  p3  p2  p0  p4  p0  p3  p4  p4  p0  p3  p4  p3  p0  p4  p0  p3  p4  p2  p0  p3  p2  p0  p1  p2  p4  p4  p4  p0  p1  p0  p1  p3  p0  p1  p3  p2  p0  p1  p0  p4  p0  p4  p3  p2  p4  p0  p4  p4  p0  p3  p4  p4  p3  p4  p3  p2  p4  p1  p2  p0  p1  p2  p4  p3  p1  p3  p0  p1  p2  p0  p1  p2  p0  p4  p0  p4  p1  p3  p4  p3  p2  p3  p4  p0  p3  p2  p4  p1  p0  p4  p3  p1  p0  p4  p1  p3  p0  p3  p2  p0  p4  p0  p1  p3  p2  p0  p4  p4  p0  p2  p4  p4  p0  p4  p3  p1  p3  p4  p4  p0  p3  p4  p0  p4  p3  p4  p1  p0  p1  p2  p4  p0  p1  p3  p4  p4  p4  p0  p1  p0  p1  p0  p3  p4  p1  p0  p4  p3  p0  p3  p2  p4  p3  p4  p4  p4  p0  p1  p2  p4  p0  p4  p4  p3  p1  p2  p0  p3  p0  p3  p4  p4  p0  p1  p3  p0  p3  p4  p0  p2  p0  p0  p3  p2  p0  p1  p3  p4  p1  p3  p2  p4  p1  p0  p1  p3  \n",
      "\n",
      "    Recovered path (states, Pi): \n",
      "p4  p4  p0  p1  p3  p2  p0  p1  p2  p4  p0  p1  p3  p1  p2  p4  p0  p1  p3  p2  p4  p0  p1  p3  p2  p0  p1  p0  p1  p3  p4  p0  p1  p0  p3  p4  p3  p4  p0  p1  p3  p4  p0  p4  p0  p1  p3  p4  p0  p1  p3  p2  p4  p3  p4  p0  p1  p2  p4  p0  p1  p3  p2  p0  p1  p2  p0  p1  p3  p2  p0  p1  p2  p0  p1  p2  p0  p1  p3  p2  p4  p0  p1  p3  p2  p4  p0  p1  p0  p1  p3  p2  p4  p0  p1  p3  p2  p0  p1  p3  p4  p0  p1  p3  p2  p0  p1  p3  p2  p0  p1  p0  p1  p3  p4  p3  p4  p0  p1  p2  p0  p1  p3  p4  p0  p1  p3  p2  p0  p1  p2  p4  p3  p2  p4  p0  p3  p2  p0  p3  p2  p4  p0  p1  p3  p4  p0  p4  p0  p3  p4  p0  p1  p2  p0  p1  p3  p1  p3  p2  p4  p0  p1  p3  p4  p0  p1  p2  p0  p3  p4  p0  p1  p2  p4  p0  p4  p0  p3  p2  p4  p0  p3  p4  p0  p1  p3  p4  p0  p1  p3  p2  p0  p1  p3  p4  p0  p3  p4  p0  p3  p2  p0  p1  p3  p2  p4  p0  p1  p3  p2  p4  p0  p4  p0  p1  p2  p4  p0  p3  p2  p4  p0  p1  p2  p0  p1  p2  p4  p0  p4  p0  p1  p3  p2  p4  p0  p4  p0  p1  p3  p2  p0  p4  p0  p1  p3  p2  p0  p1  p2  p4  p0  p1  p0  p1  p3  p4  p3  p2  p0  p1  p3  p1  p3  p2  p4  p0  p1  p3  p2  p0  p1  p3  p2  p4  p0  p1  p3  p2  p0  p1  p3  p2  p0  p1  p3  p2  p4  p0  p0  p0  p0  p0  p0  p0  p0  p0  p0  p0  p0  p0  p0  p0  p0  p0  p0  p0  p0  p0  p0  p0  p0  p0  p0  p0  p0  p0  p0  p0  p0  p0  p0  p0  p0  p0  p0  p0  p0  p0  p0  p0  p0  p0  p0  p0  p0  p0  p0  p0  p0  p0  p0  p0  p0  p0  p0  p0  p0  p0  p0  p0  p0  p0  p0  p0  p0  p0  p0  p0  p0  p0  p0  p0  p0  p0  p0  p0  p0  p0  p0  p0  p0  p0  p0  p0  p0  p0  p0  p0  p0  p0  p0  p0  p0  p0  p0  p0  p0  p0  p0  p0  p0  p0  p0  p0  p0  p0  p0  p0  \n",
      "\n",
      "    Recovered path using logarithm (states, Pi): \n",
      "p4  p4  p0  p1  p3  p2  p0  p1  p2  p4  p0  p1  p3  p1  p2  p4  p0  p1  p3  p2  p4  p0  p1  p3  p2  p0  p1  p0  p1  p3  p4  p0  p1  p0  p3  p4  p3  p4  p0  p1  p3  p4  p0  p4  p0  p1  p3  p4  p0  p1  p3  p2  p4  p3  p4  p0  p1  p2  p4  p0  p1  p3  p2  p0  p1  p2  p0  p1  p3  p2  p0  p1  p2  p0  p1  p2  p0  p1  p3  p2  p4  p0  p1  p3  p2  p4  p0  p1  p0  p1  p3  p2  p4  p0  p1  p3  p2  p0  p1  p3  p4  p0  p1  p3  p2  p0  p1  p3  p2  p0  p1  p0  p1  p3  p4  p3  p4  p0  p1  p2  p0  p1  p3  p4  p0  p1  p3  p2  p0  p1  p2  p4  p3  p2  p4  p0  p3  p2  p0  p3  p2  p4  p0  p1  p3  p4  p0  p4  p0  p3  p4  p0  p1  p2  p0  p1  p3  p1  p3  p2  p4  p0  p1  p3  p4  p0  p1  p2  p0  p3  p4  p0  p1  p2  p4  p0  p4  p0  p3  p2  p4  p0  p3  p4  p0  p1  p3  p4  p0  p1  p3  p2  p0  p1  p3  p4  p0  p3  p4  p0  p3  p2  p0  p1  p3  p2  p4  p0  p1  p3  p2  p4  p0  p4  p0  p1  p2  p4  p0  p3  p2  p4  p0  p1  p2  p0  p1  p2  p4  p0  p4  p0  p1  p3  p2  p4  p0  p4  p0  p1  p3  p2  p0  p4  p0  p1  p3  p2  p0  p1  p2  p4  p0  p1  p0  p1  p3  p4  p3  p2  p0  p1  p3  p1  p3  p2  p4  p0  p1  p3  p2  p0  p1  p3  p2  p4  p0  p1  p3  p2  p0  p1  p3  p2  p0  p1  p3  p2  p4  p0  p1  p3  p2  p0  p1  p3  p2  p4  p0  p1  p3  p2  p0  p1  p3  p4  p0  p1  p3  p2  p4  p0  p1  p3  p2  p4  p0  p1  p2  p0  p1  p3  p4  p0  p1  p3  p2  p0  p1  p0  p1  p3  p2  p0  p1  p0  p1  p3  p4  p0  p1  p2  p0  p1  p3  p4  p0  p1  p3  p2  p4  p0  p4  p0  p1  p2  p4  p0  p1  p2  p4  p0  p1  p3  p4  p4  p0  p3  p2  p4  p3  p4  p3  p2  p0  p4  p0  p1  p2  p0  p3  p4  p0  p3  p2  p0  p1  p3  p2  p0  p1  p3  p2  p0  p3  p4  p0  p1  p3  p4  "
     ]
    }
   ],
   "source": [
    "print_path(path)\n",
    "print_recovered_path(recovered_path)\n",
    "print_recovered_path_log(recovered_path_log)"
   ]
  },
  {
   "cell_type": "code",
   "execution_count": 19,
   "metadata": {
    "collapsed": true
   },
   "outputs": [],
   "source": [
    "#Функции, упрощающие визуальное восприятие кода при анализе восстановленных последовательностей\n",
    "\n",
    "def print_vitberi_analysis(p,rp,rpl):\n",
    "    print(\"\\n\\n       VITERBI analysis of results:\")\n",
    "\n",
    "    L_p = len(p)\n",
    "    success = 0\n",
    "    for i in range(L_p):\n",
    "        if rp[i] == p['path'][i]:\n",
    "            success+=1\n",
    "    print(\"NO   logarithm: Right recovers: \", success, \" (out of \", L_p, \")\")\n",
    "    \n",
    "    success_log = 0\n",
    "    for i in range(L_p):\n",
    "        if rpl[i] == p['path'][i]:\n",
    "            success_log+=1\n",
    "    print(\"WITH logarithm: Right recovers: \", success_log, \" (out of \", L_p, \")\")\n",
    "\n",
    "    difference = 0\n",
    "    for i in range(L_p):\n",
    "        if rpl[i] != rp[i]:\n",
    "            difference+=1\n",
    "    print(\"   NO vs  WITH: Differences:    \", difference, \"  (out of \", L_p, \")\")"
   ]
  },
  {
   "cell_type": "code",
   "execution_count": 20,
   "metadata": {
    "collapsed": false
   },
   "outputs": [
    {
     "name": "stdout",
     "output_type": "stream",
     "text": [
      "\n",
      "\n",
      "       VITERBI analysis of results:\n",
      "NO   logarithm: Right recovers:  123  (out of  400 )\n",
      "WITH logarithm: Right recovers:  118  (out of  400 )\n",
      "   NO vs  WITH: Differences:     82   (out of  400 )\n"
     ]
    }
   ],
   "source": [
    "print_vitberi_analysis(path,recovered_path,recovered_path_log)"
   ]
  },
  {
   "cell_type": "markdown",
   "metadata": {},
   "source": []
  },
  {
   "cell_type": "code",
   "execution_count": 21,
   "metadata": {
    "collapsed": true
   },
   "outputs": [],
   "source": [
    "def forward_algorithm(A,B,pi,seq):\n",
    "    L = len(seq)\n",
    "    M = len(A)\n",
    "    \n",
    "    #Initialisation\n",
    "    F = np.zeros((L,M))\n",
    "    F[0] = pi['0'] * B[seq['sequence'][0]]\n",
    "    \n",
    "    #Recursion\n",
    "    for i in range(1, L):\n",
    "        temp = np.zeros(M)\n",
    "        for k in range(M):\n",
    "            temp += F[i-1, k] * A.T['p'+str(k)]\n",
    "        F[i] = B[seq['sequence'][i]] * temp\n",
    "            \n",
    "    #Termination\n",
    "    P = F[L-1].sum()\n",
    "    \n",
    "    return pd.DataFrame(F).add_prefix('p').T, P"
   ]
  },
  {
   "cell_type": "code",
   "execution_count": 24,
   "metadata": {
    "collapsed": true
   },
   "outputs": [],
   "source": [
    "def sum_log_vec(A,B):\n",
    "    Sum_log = np.zeros(len(A))\n",
    "    for i in range(len(A)):\n",
    "        if A[i] == 0 or B[i] == 0:\n",
    "            if A[i] == 0:\n",
    "                Sum_log[i] = B[i]\n",
    "            elif B == 0:\n",
    "                Sum_log[i] = A[i]\n",
    "        else:\n",
    "            if A[i] > B[i]:\n",
    "                Sum_log[i] = A[i] + np.log(1 + np.exp(B[i] - A[i]))\n",
    "            if A[i] < B[i]:\n",
    "                Sum_log[i] = B[i] + np.log(1 + np.exp(A[i] - B[i]))\n",
    "    return Sum_log\n",
    "\n",
    "def sum_log_val(A,B):\n",
    "    if A == 0 or B == 0:\n",
    "        if A == 0:\n",
    "            return B\n",
    "        elif B == 0:\n",
    "            return A\n",
    "    else:\n",
    "        if A > B:\n",
    "            return A + np.log(1 + np.exp(B - A))\n",
    "        if A < B:\n",
    "            return B + np.log(1 + np.exp(A - B))\n",
    "\n",
    "def forward_algorithm_log(A,B,pi,seq):\n",
    "    L = len(seq)\n",
    "    M = len(A)\n",
    "    A_log = log_matr(A)\n",
    "    B_log = log_matr(B)\n",
    "    pi_log = log_matr(pi)\n",
    "     #Initialisation\n",
    "    F = np.zeros((L,M))\n",
    "    F[0] = pi_log['0'] + B_log[seq['sequence'][0]]\n",
    "    \n",
    "    #Recursion\n",
    "    for i in range(1, L):\n",
    "        temp = np.zeros(M)\n",
    "        for k in range(M):\n",
    "            temp = sum_log_vec(temp, F[i-1, k] + A_log.T['p'+str(k)])\n",
    "        F[i] = B_log[seq['sequence'][i]] + temp\n",
    "        \n",
    "    #Termination\n",
    "    P = 0\n",
    "    for k in range(M):\n",
    "        P = sum_log_val(P, F[L-1, k])\n",
    "    \n",
    "    return pd.DataFrame(F).add_prefix('p').T, P"
   ]
  },
  {
   "cell_type": "code",
   "execution_count": 25,
   "metadata": {
    "collapsed": false
   },
   "outputs": [
    {
     "name": "stdout",
     "output_type": "stream",
     "text": [
      "Forward algorithm. Sequence Probability (without logarithm): \n",
      " 0.0\n",
      "Forward algorithm. Sequence Probability (using logarithm): \n",
      " -761.280101425\n"
     ]
    }
   ],
   "source": [
    "F_Matrix, F_P = forward_algorithm(transition,emission,begin_distribution,sequence)\n",
    "print('Forward algorithm. Sequence Probability (without logarithm): \\n', F_P)\n",
    "F_Matrix_log, F_P_log = forward_algorithm_log(transition,emission,begin_distribution,sequence)\n",
    "print('Forward algorithm. Sequence Probability (using logarithm): \\n', F_P_log)"
   ]
  },
  {
   "cell_type": "markdown",
   "metadata": {},
   "source": []
  },
  {
   "cell_type": "code",
   "execution_count": 26,
   "metadata": {
    "collapsed": true
   },
   "outputs": [],
   "source": [
    "def backward_algorithm(A,B,pi,seq):\n",
    "    L = len(seq)\n",
    "    M = len(A)\n",
    "        \n",
    "    #Initialisation\n",
    "    F = np.zeros((L,M))\n",
    "    for i in range(M):\n",
    "        F[L - 1,i] = 1\n",
    "        \n",
    "    #Recursion\n",
    "    for i in range(L - 2, -1, -1):\n",
    "        for l in range(M):\n",
    "            F[i] += A['p'+str(l)] * B.T['p'+str(l)][str(seq['sequence'][i+1])] * F[i+1, l]\n",
    "            \n",
    "    #Termination\n",
    "    P = 0\n",
    "    for l in range(M):\n",
    "        P += pi['0'][l] * B.T['p'+str(l)][str(seq['sequence'][0])] * F[0, l]\n",
    "    return pd.DataFrame(F).add_prefix('p').T, P"
   ]
  },
  {
   "cell_type": "code",
   "execution_count": 27,
   "metadata": {
    "collapsed": true
   },
   "outputs": [],
   "source": [
    "def backward_algorithm_log(A,B,pi,seq):\n",
    "    L = len(seq)\n",
    "    M = len(A)\n",
    "    A_log = log_matr(A)\n",
    "    B_log = log_matr(B)\n",
    "    pi_log = log_matr(pi)\n",
    "        \n",
    "    #Initialisation\n",
    "    F = np.zeros((L,M))\n",
    "    for i in range(M):\n",
    "        F[L - 1,i] = np.log(1)\n",
    "        \n",
    "    #Recursion\n",
    "    for i in range(L - 2, -1, -1):\n",
    "        for l in range(M):\n",
    "            F[i] = sum_log_vec(F[i], A_log['p'+str(l)] + B_log.T['p'+str(l)][str(seq['sequence'][i+1])] + F[i+1, l])\n",
    "            \n",
    "    #Termination\n",
    "    P = 0\n",
    "    for l in range(M):\n",
    "        P = sum_log_val(P, pi_log['0'][l] + B_log.T['p'+str(l)][str(seq['sequence'][0])] + F[0, l])\n",
    "    return pd.DataFrame(F).add_prefix('p').T, P"
   ]
  },
  {
   "cell_type": "code",
   "execution_count": 28,
   "metadata": {
    "collapsed": false
   },
   "outputs": [
    {
     "name": "stdout",
     "output_type": "stream",
     "text": [
      "Backward algorithm. Sequence Probability (without logarithm): \n",
      " 0.0\n",
      "Backward algorithm. Sequence Probability (using logarithm): \n",
      " -761.280101425\n"
     ]
    }
   ],
   "source": [
    "B_Matrix, B_P = backward_algorithm(transition,emission,begin_distribution,sequence)\n",
    "print('Backward algorithm. Sequence Probability (without logarithm): \\n', B_P)\n",
    "B_Matrix_log, B_P_log = backward_algorithm_log(transition,emission,begin_distribution,sequence)\n",
    "print('Backward algorithm. Sequence Probability (using logarithm): \\n', B_P_log)"
   ]
  },
  {
   "cell_type": "markdown",
   "metadata": {},
   "source": [
    "# Program posterior decoding."
   ]
  },
  {
   "cell_type": "code",
   "execution_count": 29,
   "metadata": {
    "collapsed": true
   },
   "outputs": [],
   "source": [
    "def posterior_decoding(F, B, P):\n",
    "    L = len(F.T)\n",
    "    posterior = []\n",
    "    for i in range(L):\n",
    "        posterior.append(F[i][0] * B[i][0] / P)\n",
    "    return posterior"
   ]
  },
  {
   "cell_type": "code",
   "execution_count": 30,
   "metadata": {
    "collapsed": true
   },
   "outputs": [],
   "source": [
    "post = posterior_decoding(F_Matrix, B_Matrix, F_P)"
   ]
  },
  {
   "cell_type": "markdown",
   "metadata": {},
   "source": [
    "## Using the previous results, build the HMM for the unfair casino."
   ]
  },
  {
   "cell_type": "code",
   "execution_count": 31,
   "metadata": {
    "collapsed": false
   },
   "outputs": [
    {
     "name": "stdout",
     "output_type": "stream",
     "text": [
      "Enter the length of the sequence, L: \n",
      "200\n"
     ]
    }
   ],
   "source": [
    "print(\"Enter the length of the sequence, L: \")\n",
    "L_UC = int(input())"
   ]
  },
  {
   "cell_type": "code",
   "execution_count": 32,
   "metadata": {
    "collapsed": true
   },
   "outputs": [],
   "source": [
    "\n",
    "Unfair_casino_transition = pd.DataFrame(np.array([[.95,.05],[.1,.9]])).add_prefix('p').T.add_prefix('p').T\n",
    "Unfair_casino_emission = pd.DataFrame(np.array([[1.0/6 for i in range(6)],[.1,.1,.1,.1,.1,.5]])).add_prefix('e').T.add_prefix('p').T\n",
    "Unfair_casino_beginning_distribution = pd.DataFrame(np.array([2.0/3,1.0/3])).T.add_prefix('p').T\n",
    "\n",
    "\n",
    "Unfair_casino_transition.to_csv('transition_UC.csv',sep='\\t')\n",
    "Unfair_casino_emission.to_csv('emission_UC.csv',sep='\\t')\n",
    "Unfair_casino_beginning_distribution.to_csv('begin_distribution_UC.csv',sep='\\t')\n",
    "\n",
    "\n",
    "transition_UC = pd.read_csv('transition_UC.csv',sep='\\t',index_col=0)\n",
    "emission_UC = pd.read_csv('emission_UC.csv',sep='\\t',index_col=0)\n",
    "begin_distribution_UC = pd.read_csv('begin_distribution_UC.csv',sep='\\t',index_col=0)"
   ]
  },
  {
   "cell_type": "code",
   "execution_count": 33,
   "metadata": {
    "collapsed": false
   },
   "outputs": [
    {
     "data": {
      "text/html": [
       "<div>\n",
       "<table border=\"1\" class=\"dataframe\">\n",
       "  <thead>\n",
       "    <tr style=\"text-align: right;\">\n",
       "      <th></th>\n",
       "      <th>p0</th>\n",
       "      <th>p1</th>\n",
       "    </tr>\n",
       "  </thead>\n",
       "  <tbody>\n",
       "    <tr>\n",
       "      <th>p0</th>\n",
       "      <td>0.95</td>\n",
       "      <td>0.05</td>\n",
       "    </tr>\n",
       "    <tr>\n",
       "      <th>p1</th>\n",
       "      <td>0.10</td>\n",
       "      <td>0.90</td>\n",
       "    </tr>\n",
       "  </tbody>\n",
       "</table>\n",
       "</div>"
      ],
      "text/plain": [
       "      p0    p1\n",
       "p0  0.95  0.05\n",
       "p1  0.10  0.90"
      ]
     },
     "execution_count": 33,
     "metadata": {},
     "output_type": "execute_result"
    }
   ],
   "source": [
    "transition_UC"
   ]
  },
  {
   "cell_type": "code",
   "execution_count": 34,
   "metadata": {
    "collapsed": false
   },
   "outputs": [
    {
     "data": {
      "text/html": [
       "<div>\n",
       "<table border=\"1\" class=\"dataframe\">\n",
       "  <thead>\n",
       "    <tr style=\"text-align: right;\">\n",
       "      <th></th>\n",
       "      <th>e0</th>\n",
       "      <th>e1</th>\n",
       "      <th>e2</th>\n",
       "      <th>e3</th>\n",
       "      <th>e4</th>\n",
       "      <th>e5</th>\n",
       "    </tr>\n",
       "  </thead>\n",
       "  <tbody>\n",
       "    <tr>\n",
       "      <th>p0</th>\n",
       "      <td>0.166667</td>\n",
       "      <td>0.166667</td>\n",
       "      <td>0.166667</td>\n",
       "      <td>0.166667</td>\n",
       "      <td>0.166667</td>\n",
       "      <td>0.166667</td>\n",
       "    </tr>\n",
       "    <tr>\n",
       "      <th>p1</th>\n",
       "      <td>0.100000</td>\n",
       "      <td>0.100000</td>\n",
       "      <td>0.100000</td>\n",
       "      <td>0.100000</td>\n",
       "      <td>0.100000</td>\n",
       "      <td>0.500000</td>\n",
       "    </tr>\n",
       "  </tbody>\n",
       "</table>\n",
       "</div>"
      ],
      "text/plain": [
       "          e0        e1        e2        e3        e4        e5\n",
       "p0  0.166667  0.166667  0.166667  0.166667  0.166667  0.166667\n",
       "p1  0.100000  0.100000  0.100000  0.100000  0.100000  0.500000"
      ]
     },
     "execution_count": 34,
     "metadata": {},
     "output_type": "execute_result"
    }
   ],
   "source": [
    "emission_UC"
   ]
  },
  {
   "cell_type": "code",
   "execution_count": 35,
   "metadata": {
    "collapsed": false
   },
   "outputs": [
    {
     "data": {
      "text/html": [
       "<div>\n",
       "<table border=\"1\" class=\"dataframe\">\n",
       "  <thead>\n",
       "    <tr style=\"text-align: right;\">\n",
       "      <th></th>\n",
       "      <th>0</th>\n",
       "    </tr>\n",
       "  </thead>\n",
       "  <tbody>\n",
       "    <tr>\n",
       "      <th>p0</th>\n",
       "      <td>0.666667</td>\n",
       "    </tr>\n",
       "    <tr>\n",
       "      <th>p1</th>\n",
       "      <td>0.333333</td>\n",
       "    </tr>\n",
       "  </tbody>\n",
       "</table>\n",
       "</div>"
      ],
      "text/plain": [
       "           0\n",
       "p0  0.666667\n",
       "p1  0.333333"
      ]
     },
     "execution_count": 35,
     "metadata": {},
     "output_type": "execute_result"
    }
   ],
   "source": [
    "begin_distribution_UC"
   ]
  },
  {
   "cell_type": "code",
   "execution_count": 36,
   "metadata": {
    "collapsed": true
   },
   "outputs": [],
   "source": [
    "\n",
    "path_random_UC = HMMrg_path(begin_distribution_UC,transition_UC,L_UC)\n",
    "sequence_random_UC = HMMrg_sequence(path_random_UC,emission_UC,L_UC)\n",
    "\n",
    "\n",
    "path_random_UC_df = pd.DataFrame({'path': path_random_UC})\n",
    "path_random_UC_df.to_csv('Path_UC.csv',sep='\\t')\n",
    "sequence_random_UC_df = pd.DataFrame({'sequence': sequence_random_UC})\n",
    "sequence_random_UC_df.to_csv('Emissions_UC.csv',sep='\\t')\n",
    "\n",
    "\n",
    "path_UC = pd.read_csv('Path_UC.csv',sep='\\t',index_col=0)\n",
    "sequence_UC = pd.read_csv('Emissions_UC.csv',sep='\\t',index_col=0)"
   ]
  },
  {
   "cell_type": "code",
   "execution_count": 37,
   "metadata": {
    "collapsed": false
   },
   "outputs": [
    {
     "name": "stdout",
     "output_type": "stream",
     "text": [
      "    Path (states, Pi): \n",
      "p0  p0  p0  p1  p0  p0  p0  p0  p0  p0  p0  p0  p0  p0  p0  p0  p0  p0  p0  p0  p0  p0  p0  p0  p0  p0  p0  p0  p0  p0  p0  p0  p0  p0  p0  p0  p0  p0  p0  p0  p0  p0  p0  p0  p0  p0  p0  p0  p0  p0  p0  p0  p0  p0  p0  p0  p0  p0  p0  p0  p0  p0  p0  p0  p0  p0  p0  p0  p0  p0  p0  p0  p0  p0  p1  p1  p0  p0  p0  p0  p0  p0  p0  p0  p0  p1  p0  p0  p0  p0  p0  p0  p0  p0  p0  p0  p0  p0  p0  p1  p1  p1  p1  p0  p0  p0  p0  p0  p1  p1  p1  p1  p1  p1  p1  p1  p1  p1  p1  p1  p1  p1  p1  p1  p1  p1  p1  p1  p1  p1  p1  p1  p1  p0  p0  p0  p0  p0  p0  p0  p0  p0  p0  p0  p0  p0  p0  p0  p0  p0  p0  p0  p0  p0  p0  p0  p0  p0  p0  p0  p0  p0  p0  p0  p0  p0  p0  p0  p0  p0  p0  p0  p0  p0  p0  p0  p0  p1  p1  p1  p0  p0  p0  p0  p0  p0  p0  p0  p0  p0  p0  p0  p0  p0  p0  p0  p0  p0  p0  p0  \n",
      "\n",
      "    Emissions (sequence of observation, x): \n",
      "e0  e4  e0  e2  e3  e3  e3  e3  e0  e3  e2  e4  e1  e0  e3  e5  e0  e5  e0  e1  e4  e0  e5  e3  e2  e2  e1  e4  e2  e5  e5  e3  e3  e1  e2  e2  e1  e3  e0  e0  e3  e1  e3  e1  e1  e0  e5  e2  e5  e2  e3  e5  e4  e4  e0  e2  e3  e2  e3  e1  e4  e1  e4  e2  e4  e0  e2  e2  e4  e3  e4  e5  e4  e2  e5  e0  e1  e3  e4  e3  e2  e3  e0  e0  e4  e2  e4  e4  e1  e4  e2  e4  e0  e2  e1  e2  e5  e4  e0  e2  e1  e3  e1  e5  e5  e0  e1  e1  e5  e3  e5  e5  e1  e5  e5  e1  e1  e5  e1  e1  e0  e5  e3  e5  e0  e5  e5  e3  e1  e5  e5  e5  e3  e2  e5  e0  e2  e5  e3  e5  e4  e0  e3  e5  e4  e3  e3  e3  e5  e3  e1  e3  e4  e4  e5  e1  e5  e3  e3  e0  e0  e4  e2  e5  e4  e1  e5  e5  e1  e0  e3  e1  e2  e0  e3  e2  e1  e4  e5  e5  e0  e3  e1  e1  e5  e1  e1  e1  e5  e0  e1  e5  e4  e3  e2  e2  e3  e4  e2  e2  "
     ]
    }
   ],
   "source": [
    "\n",
    "print_path(path_UC)\n",
    "print_emissions(sequence_UC)"
   ]
  },
  {
   "cell_type": "markdown",
   "metadata": {},
   "source": [
    "# Алгоритм Витерби"
   ]
  },
  {
   "cell_type": "code",
   "execution_count": 38,
   "metadata": {
    "collapsed": true
   },
   "outputs": [],
   "source": [
    "recovered_path_UC = viterbi_algorithm(transition_UC,emission_UC,begin_distribution_UC,sequence_UC)\n",
    "recovered_path_UC_log = viterbi_algorithm_log(transition_UC,emission_UC,begin_distribution_UC,sequence_UC)"
   ]
  },
  {
   "cell_type": "code",
   "execution_count": 39,
   "metadata": {
    "collapsed": false
   },
   "outputs": [
    {
     "name": "stdout",
     "output_type": "stream",
     "text": [
      "\n",
      "\n",
      "    Recovered path (states, Pi): \n",
      "p0  p0  p0  p0  p0  p0  p0  p0  p0  p0  p0  p0  p0  p0  p0  p0  p0  p0  p0  p0  p0  p0  p0  p0  p0  p0  p0  p0  p0  p0  p0  p0  p0  p0  p0  p0  p0  p0  p0  p0  p0  p0  p0  p0  p0  p0  p0  p0  p0  p0  p0  p0  p0  p0  p0  p0  p0  p0  p0  p0  p0  p0  p0  p0  p0  p0  p0  p0  p0  p0  p0  p0  p0  p0  p0  p0  p0  p0  p0  p0  p0  p0  p0  p0  p0  p0  p0  p0  p0  p0  p0  p0  p0  p0  p0  p0  p0  p0  p0  p0  p0  p0  p0  p1  p1  p1  p1  p1  p1  p1  p1  p1  p1  p1  p1  p1  p1  p1  p1  p1  p1  p1  p1  p1  p1  p1  p1  p1  p1  p1  p1  p1  p1  p1  p1  p1  p1  p1  p1  p1  p0  p0  p0  p0  p0  p0  p0  p0  p0  p0  p0  p0  p0  p0  p0  p0  p0  p0  p0  p0  p0  p0  p0  p0  p0  p0  p0  p0  p0  p0  p0  p0  p0  p0  p0  p0  p0  p0  p0  p0  p0  p0  p0  p0  p0  p0  p0  p0  p0  p0  p0  p0  p0  p0  p0  p0  p0  p0  p0  p0  \n",
      "\n",
      "    Recovered path using logarithm (states, Pi): \n",
      "p0  p0  p0  p0  p0  p0  p0  p0  p0  p0  p0  p0  p0  p0  p0  p0  p0  p0  p0  p0  p0  p0  p0  p0  p0  p0  p0  p0  p0  p0  p0  p0  p0  p0  p0  p0  p0  p0  p0  p0  p0  p0  p0  p0  p0  p0  p0  p0  p0  p0  p0  p0  p0  p0  p0  p0  p0  p0  p0  p0  p0  p0  p0  p0  p0  p0  p0  p0  p0  p0  p0  p0  p0  p0  p0  p0  p0  p0  p0  p0  p0  p0  p0  p0  p0  p0  p0  p0  p0  p0  p0  p0  p0  p0  p0  p0  p0  p0  p0  p0  p0  p0  p0  p1  p1  p1  p1  p1  p1  p1  p1  p1  p1  p1  p1  p1  p1  p1  p1  p1  p1  p1  p1  p1  p1  p1  p1  p1  p1  p1  p1  p1  p1  p1  p1  p1  p1  p1  p1  p1  p0  p0  p0  p0  p0  p0  p0  p0  p0  p0  p0  p0  p0  p0  p0  p0  p0  p0  p0  p0  p0  p0  p0  p0  p0  p0  p0  p0  p0  p0  p0  p0  p0  p0  p0  p0  p0  p0  p0  p0  p0  p0  p0  p0  p0  p0  p0  p0  p0  p0  p0  p0  p0  p0  p0  p0  p0  p0  p0  p0  "
     ]
    }
   ],
   "source": [
    "print_recovered_path(recovered_path_UC)\n",
    "print_recovered_path_log(recovered_path_UC_log)"
   ]
  },
  {
   "cell_type": "code",
   "execution_count": 40,
   "metadata": {
    "collapsed": false
   },
   "outputs": [
    {
     "name": "stdout",
     "output_type": "stream",
     "text": [
      "\n",
      "\n",
      "       VITERBI analysis of results:\n",
      "NO   logarithm: Right recovers:  177  (out of  200 )\n",
      "WITH logarithm: Right recovers:  177  (out of  200 )\n",
      "   NO vs  WITH: Differences:     0   (out of  200 )\n"
     ]
    }
   ],
   "source": [
    "print_vitberi_analysis(path_UC,recovered_path_UC,recovered_path_UC_log)"
   ]
  },
  {
   "cell_type": "code",
   "execution_count": 41,
   "metadata": {
    "collapsed": false
   },
   "outputs": [
    {
     "name": "stdout",
     "output_type": "stream",
     "text": [
      "Forward algorithm. Sequence Probability (without logarithm): \n",
      " 5.96578983097e-156\n",
      "Forward algorithm. Sequence Probability (using logarithm): \n",
      " -357.417233049\n"
     ]
    }
   ],
   "source": [
    "F_Matrix_UC, F_P_UC = forward_algorithm(transition_UC,emission_UC,begin_distribution_UC,sequence_UC)\n",
    "print('Forward algorithm. Sequence Probability (without logarithm): \\n', F_P_UC)\n",
    "F_Matrix_UC_log, F_P_UC_log = forward_algorithm_log(transition_UC,emission_UC,begin_distribution_UC,sequence_UC)\n",
    "print('Forward algorithm. Sequence Probability (using logarithm): \\n', F_P_UC_log)"
   ]
  },
  {
   "cell_type": "code",
   "execution_count": 42,
   "metadata": {
    "collapsed": false
   },
   "outputs": [
    {
     "name": "stdout",
     "output_type": "stream",
     "text": [
      "Backward algorithm. Sequence Probability (without logarithm): \n",
      " 5.96578983097e-156\n",
      "Backward algorithm. Sequence Probability (using logarithm): \n",
      " -357.417233049\n"
     ]
    }
   ],
   "source": [
    "B_Matrix_UC, B_P_UC = backward_algorithm(transition_UC,emission_UC,begin_distribution_UC,sequence_UC)\n",
    "print('Backward algorithm. Sequence Probability (without logarithm): \\n', B_P_UC)\n",
    "B_Matrix_UC_log, B_P_UC_log = backward_algorithm_log(transition_UC,emission_UC,begin_distribution_UC,sequence_UC)\n",
    "print('Backward algorithm. Sequence Probability (using logarithm): \\n', B_P_UC_log)"
   ]
  },
  {
   "cell_type": "markdown",
   "metadata": {},
   "source": [
    "# P(f air)"
   ]
  },
  {
   "cell_type": "code",
   "execution_count": 43,
   "metadata": {
    "collapsed": true
   },
   "outputs": [],
   "source": [
    "post_UC = posterior_decoding(F_Matrix_UC, B_Matrix_UC, F_P_UC)"
   ]
  },
  {
   "cell_type": "code",
   "execution_count": 45,
   "metadata": {
    "collapsed": false
   },
   "outputs": [],
   "source": [
    "def plot_dice_posterior_probability(\n",
    "    path, \n",
    "    posterior_probability_path, \n",
    "    green_state = 0,\n",
    "    green_label = 'Fair dice',\n",
    "    red_label = 'Unfair dice',\n",
    "    line_label='Probability of fair dice',\n",
    "    alpha=0.2):\n",
    "    \n",
    "    L = len(path['path'])\n",
    "    state_path = np.zeros(L)\n",
    "    for i in range(L):\n",
    "        state_path[i] = path['path'][i][1]\n",
    "    \n",
    "    cur_color = state_path[0]\n",
    "    start = 0\n",
    "    \n",
    "    for i in range(1, len(state_path)):\n",
    "        if state_path[i] == cur_color:\n",
    "            continue\n",
    "        else:\n",
    "            if cur_color == green_state:\n",
    "                plt.axvspan(start, i, facecolor = 'green', alpha = alpha)\n",
    "            else:\n",
    "                plt.axvspan(start, i, facecolor = 'red', alpha = alpha)\n",
    "            start = i\n",
    "            cur_color = state_path[i]\n",
    "            \n",
    "    if state_path[-1] == 0:\n",
    "        plt.axvspan(start, len(state_path) - 1, facecolor = 'green', alpha = alpha)\n",
    "    else:\n",
    "        plt.axvspan(start, len(state_path) - 1, facecolor = 'red', alpha = alpha)\n",
    "\n",
    "    plt.plot(posterior_probability_path, color = 'blue')\n",
    "    \n",
    "    green_path = mpatches.Patch(color='green', alpha = alpha, label = green_label)\n",
    "    red_path = mpatches.Patch(color='red', alpha = alpha, label = red_label)\n",
    "    blue_line = lines.Line2D([],[], color = 'blue', label = line_label)\n",
    "    \n",
    "    plt.legend(\n",
    "        handles = [green_path, red_path, blue_line],\n",
    "        bbox_to_anchor = (0., 1.02, 1., .102), loc = 3,\n",
    "        ncol = 1, mode = 'expand', borderaxespad = 0.)\n",
    "    \n",
    "    plt.show()"
   ]
  },
  {
   "cell_type": "markdown",
   "metadata": {},
   "source": [
    "##"
   ]
  },
  {
   "cell_type": "code",
   "execution_count": 49,
   "metadata": {
    "collapsed": true
   },
   "outputs": [],
   "source": [
    "plot_dice_posterior_probability(path_UC, post_UC)"
   ]
  },
  {
   "cell_type": "code",
   "execution_count": 48,
   "metadata": {
    "collapsed": true
   },
   "outputs": [],
   "source": [
    "plot_dice_posterior_probability(pd.DataFrame({'path': recovered_path_UC_log}), post_UC)"
   ]
  }
 ],
 "metadata": {
  "kernelspec": {
   "display_name": "Python 3",
   "language": "python",
   "name": "python3"
  },
  "language_info": {
   "codemirror_mode": {
    "name": "ipython",
    "version": 3
   },
   "file_extension": ".py",
   "mimetype": "text/x-python",
   "name": "python",
   "nbconvert_exporter": "python",
   "pygments_lexer": "ipython3",
   "version": "3.5.1"
  }
 },
 "nbformat": 4,
 "nbformat_minor": 0
}
